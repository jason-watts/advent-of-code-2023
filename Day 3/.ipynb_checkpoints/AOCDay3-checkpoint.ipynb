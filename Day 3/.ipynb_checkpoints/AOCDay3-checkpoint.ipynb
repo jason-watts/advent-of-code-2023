{
 "cells": [
  {
   "cell_type": "code",
   "execution_count": 17,
   "id": "a1d83dc6-3273-4035-903a-829be78db9ba",
   "metadata": {},
   "outputs": [
    {
     "ename": "SyntaxError",
     "evalue": "expected ':' (1790763613.py, line 17)",
     "output_type": "error",
     "traceback": [
      "\u001b[0;36m  Cell \u001b[0;32mIn[17], line 17\u001b[0;36m\u001b[0m\n\u001b[0;31m    else\u001b[0m\n\u001b[0m        ^\u001b[0m\n\u001b[0;31mSyntaxError\u001b[0m\u001b[0;31m:\u001b[0m expected ':'\n"
     ]
    }
   ],
   "source": [
    "import re\n",
    "\n",
    "def split_number_and_symbol(value):\n",
    "\n",
    "    newvalues = []\n",
    "    newvalue = ''\n",
    "    row_item_symbol = ''\n",
    "  \n",
    "    chars = [*value]\n",
    "    \n",
    "    for char in chars:\n",
    "        \n",
    "        if not char.isdigit():\n",
    "            row_item_symbol = char\n",
    "            newvalues.append(newvalue)\n",
    "            newvalue = ''\n",
    "        else\n",
    "            newvalue = newvalue + char\n",
    "            \n",
    "            \n",
    "    return [newvalues, row_item_symbol]\n",
    "          \n",
    " \n",
    "\n",
    "def parse_schematic_records(schematic_records):\n",
    "\n",
    "    row_data = []\n",
    "    row_index = -1\n",
    "    for schematic_record in schematic_records:\n",
    "        row_index += 1\n",
    "        # print(schematic_record)\n",
    "        \n",
    "        row_items = schematic_record.split('.')\n",
    "        \n",
    "        for row_item in row_items:\n",
    "            if row_item == '\\n':\n",
    "                break\n",
    "         \n",
    "            if any(not c.isalnum() for c in row_item):\n",
    "                split_result = split_number_and_symbol(row_item)\n",
    "                for split_item in split_result[0]:\n",
    "                    start_pos = schematic_record.find(split_item)\n",
    "                    if len(split_item) > 0:\n",
    "                        row_data.append([split_item,row_index,start_pos,start_pos-1+len(split_item)])\n",
    "                \n",
    "                split_item = split_result[1]\n",
    "                start_pos = schematic_record.find(split_item)\n",
    "                if len(split_item) > 0:\n",
    "                    row_data.append([split_item,row_index,start_pos,start_pos-1+len(split_item)])\n",
    "                \n",
    "            else:\n",
    "                start_pos = schematic_record.find(row_item)\n",
    "                # print(\"rowitem %s start_pos %s\" % (row_item,start_pos))\n",
    "                if len(row_item) > 0:\n",
    "                    row_data.append([row_item,row_index,start_pos,start_pos-1+len(row_item)])\n",
    "\n",
    "    return row_data\n",
    "\n",
    "def evaluate_adjacency(row_data):\n",
    "    for row_entry in row_data:\n",
    "        print(row_entry)\n",
    "\n",
    "def main():\n",
    "    file = open('input.txt','r')\n",
    "    schematic_records = file.readlines()\n",
    "\n",
    "    row_data = parse_schematic_records(schematic_records)\n",
    "    evaluate_adjacency(row_data)\n",
    "   \n",
    "\n",
    "# Entrypoint\n",
    "main()"
   ]
  },
  {
   "cell_type": "code",
   "execution_count": null,
   "id": "7f881376-957d-48e9-9952-285ab4557a26",
   "metadata": {},
   "outputs": [],
   "source": []
  },
  {
   "cell_type": "code",
   "execution_count": null,
   "id": "168c7335-a23d-4cae-a862-d1b3d42ced7c",
   "metadata": {},
   "outputs": [],
   "source": []
  }
 ],
 "metadata": {
  "kernelspec": {
   "display_name": "Python 3 (ipykernel)",
   "language": "python",
   "name": "python3"
  },
  "language_info": {
   "codemirror_mode": {
    "name": "ipython",
    "version": 3
   },
   "file_extension": ".py",
   "mimetype": "text/x-python",
   "name": "python",
   "nbconvert_exporter": "python",
   "pygments_lexer": "ipython3",
   "version": "3.11.4"
  }
 },
 "nbformat": 4,
 "nbformat_minor": 5
}
