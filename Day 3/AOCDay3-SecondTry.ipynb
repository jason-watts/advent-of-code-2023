{
 "cells": [
  {
   "cell_type": "code",
   "execution_count": 58,
   "id": "1405f411-cfda-41ab-8775-e183f4a38996",
   "metadata": {},
   "outputs": [
    {
     "name": "stdout",
     "output_type": "stream",
     "text": [
      "530849 84900879\n"
     ]
    }
   ],
   "source": [
    "import math as m, re\n",
    "\n",
    "board = list(open('input.txt'))\n",
    "chars = {(r, c): [] for r in range(140) for c in range(140)\n",
    "                    if board[r][c] not in '01234566789.'}\n",
    "\n",
    "for r, row in enumerate(board):\n",
    "   \n",
    "    for n in re.finditer(r'\\d+', row):\n",
    "        \n",
    "        # create the edge (coordinates that are adjacent to the digits)\n",
    "        edge = {(r, c) for r in (r-1, r, r+1)\n",
    "                       for c in range(n.start()-1, n.end()+1)}\n",
    "        \n",
    "        # use bitwise & to see if the edge contains ANY characters\n",
    "        adjacent = edge & chars.keys()\n",
    "        for o in adjacent: chars[o].append(int(n.group()))\n",
    "            \n",
    "print(sum(sum(p)    for p in chars.values()),\n",
    "      sum(m.prod(p) for p in chars.values() if len(p)==2))"
   ]
  },
  {
   "cell_type": "code",
   "execution_count": null,
   "id": "df2dc0c5-85ce-493b-b841-ba8c41ffd0f3",
   "metadata": {},
   "outputs": [],
   "source": []
  }
 ],
 "metadata": {
  "kernelspec": {
   "display_name": "Python 3 (ipykernel)",
   "language": "python",
   "name": "python3"
  },
  "language_info": {
   "codemirror_mode": {
    "name": "ipython",
    "version": 3
   },
   "file_extension": ".py",
   "mimetype": "text/x-python",
   "name": "python",
   "nbconvert_exporter": "python",
   "pygments_lexer": "ipython3",
   "version": "3.11.4"
  }
 },
 "nbformat": 4,
 "nbformat_minor": 5
}
