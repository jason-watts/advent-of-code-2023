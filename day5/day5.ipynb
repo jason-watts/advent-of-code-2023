{
 "cells": [
  {
   "cell_type": "code",
   "execution_count": 9,
   "id": "0899067e-174d-43bc-8cbb-33ac7e2b0220",
   "metadata": {},
   "outputs": [],
   "source": [
    "# copied from\n",
    "# https://topaz.github.io/paste/#XQAAAQCYAQAAAAAAAAAzHIoib6poHLpewxtGE3pTrRdzrponK6uH8J9SK+0ES1LNdidG34FPT5Z5WfpAJ/epkMmnWNkE3uWVG0Y8HT99F+XNebEMfXdELf9EbJ4kU+4y8Z8mDYq4vFjdXFjqAZ+RcsKBrxM8B4MNbXk+8ON8Eg2UVhAETGWE/hiQTSOEXcL7kKbvTlDhwyye9cGIwJft/OhiPJfgAxk9De6uGFbA+h8JLBXvO7eA+06Kevk3KqYuRoSivXiNXjclP6RVPreuYtpQVlnhamNsljGPuCrFbhVpyfshGpn/tnVhDosGz+KbtVDUqXyEuIxPZd+TxHcBZD6B/P91HOcA\n",
    "\n",
    "from functools import reduce\n",
    "\n",
    "seeds, *mappings = open('input-example.txt').read().split('\\n\\n')\n",
    "seeds = map(int, seeds.split()[1:])\n",
    "\n",
    "def lookup(start, mapping):\n",
    "    for m in mapping.split('\\n')[1:]:\n",
    "        dst, src, len = map(int, m.split())\n",
    "        delta = start - src\n",
    "        if delta in range(len):\n",
    "            return dst + delta\n",
    "    else: return start\n",
    "\n",
    "# print(min(reduce(lookup, mappings, int(s)) for s in seeds))"
   ]
  },
  {
   "cell_type": "code",
   "execution_count": 6,
   "id": "5eec1a75-6f50-455a-97ab-5709b975f298",
   "metadata": {},
   "outputs": [
    {
     "name": "stdout",
     "output_type": "stream",
     "text": [
      "35\n"
     ]
    }
   ],
   "source": [
    "# https://github.com/kaathewise/aoc2023/blob/main/5.py\n",
    "from functools import reduce\n",
    "from itertools import chain\n",
    "from re import findall\n",
    "(f:=open(\"input-example.txt\").read().split('\\n\\n')) and print(min(reduce((lambda s,m:[next((u+x-v for u,v,w in zip(*[map(int,findall(r'\\d+',m))]*3) if v<=x<v+w),x) for x in s]),f[1:],map(int,findall(r'\\d+',f[0])))))"
   ]
  },
  {
   "cell_type": "markdown",
   "id": "eb8793d7-5084-4202-bb4b-25f6bedca62e",
   "metadata": {},
   "source": [
    "Python I need to understand\n",
    "1. lambda\n",
    "2. map\n",
    "3. reduce"
   ]
  }
 ],
 "metadata": {
  "kernelspec": {
   "display_name": "Python 3 (ipykernel)",
   "language": "python",
   "name": "python3"
  },
  "language_info": {
   "codemirror_mode": {
    "name": "ipython",
    "version": 3
   },
   "file_extension": ".py",
   "mimetype": "text/x-python",
   "name": "python",
   "nbconvert_exporter": "python",
   "pygments_lexer": "ipython3",
   "version": "3.11.6"
  }
 },
 "nbformat": 4,
 "nbformat_minor": 5
}
