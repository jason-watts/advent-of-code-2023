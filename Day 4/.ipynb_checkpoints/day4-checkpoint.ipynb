{
 "cells": [
  {
   "cell_type": "code",
   "execution_count": null,
   "id": "cd3fd21e-8a26-403b-93f1-977009ec9aea",
   "metadata": {},
   "outputs": [],
   "source": []
  },
  {
   "cell_type": "code",
   "execution_count": 80,
   "id": "96d1e38a-1e6b-4d67-875e-dcfaf782cf03",
   "metadata": {},
   "outputs": [
    {
     "name": "stdout",
     "output_type": "stream",
     "text": [
      "8\n",
      "2\n",
      "2\n",
      "1\n",
      "0\n",
      "0\n",
      "\n",
      "Sum 13\n"
     ]
    }
   ],
   "source": [
    "import re, math\n",
    "\n",
    "rows = list(open('day4-part1-example.txt'))\n",
    "cards = {(card): [] for card in range(len(rows))}\n",
    "\n",
    "def score_card(count):\n",
    "    if count == 0:\n",
    "        return 0\n",
    "    return 2 ** (count-1)\n",
    "\n",
    "# for each card, remove name, create two lists, have, and winning\n",
    "for r, row in enumerate(rows):\n",
    " \n",
    "    have,winning = row.split(': ')[1].split('|')\n",
    "    have = have.split()\n",
    "    winning = winning.split()\n",
    "\n",
    "    score = score_card(len(set(have) & set(winning)))\n",
    "    cards[r] = score\n",
    "    print(cards[r])\n",
    "\n",
    "\n",
    "print(\"\\nSum %i\" % sum(cards.values()))"
   ]
  },
  {
   "cell_type": "code",
   "execution_count": 82,
   "id": "ac2d798b-d9f9-47a1-a138-3877f47bb496",
   "metadata": {},
   "outputs": [
    {
     "name": "stdout",
     "output_type": "stream",
     "text": [
      "8063216\n"
     ]
    }
   ],
   "source": [
    "import re, math\n",
    "from collections import defaultdict\n",
    "\n",
    "def score_card(count):\n",
    "    if count == 0:\n",
    "        return 0\n",
    "    return 2 ** (count-1)\n",
    "\n",
    "def score_cards(rows,start,stop):\n",
    "    # for each card, remove name, create two lists, have, and winning\n",
    "    for r, row in enumerate(rows[start:stop],start=start+1):\n",
    "        cards[r] += 1\n",
    "        # print(r)\n",
    "        row = row.split(': ')[1].split('|')\n",
    "        have = [number for i,number in enumerate(row[0].split())]\n",
    "        winning = [number for i,number in enumerate(row[1].split())]\n",
    "\n",
    "        count = len(set(have) & set(winning))\n",
    "        #print(\"Row %i %i\" % (r,count))\n",
    "        for c in range(count):\n",
    "            cards[r + 1 + c] += cards[r]\n",
    "\n",
    "    print(sum(cards.values()))\n",
    "\n",
    "\n",
    "#main\n",
    "rows = list(open('day4-part1.txt'))\n",
    "cards = defaultdict(int)\n",
    "\n",
    "score_cards(rows,0,len(rows))\n",
    "\n",
    "\n",
    "\n",
    "\n",
    "\n",
    "\n",
    " \n"
   ]
  },
  {
   "cell_type": "code",
   "execution_count": null,
   "id": "85be369f-70fd-4545-a75f-d63c35144cd6",
   "metadata": {},
   "outputs": [],
   "source": [
    "items = [\"jason\",\"emily\",\"michelle\",\"charity\",\"andew\",\"jaycee\",\"tabitha\"]\n",
    "\n",
    "for i, item in enumerate(items[4:7]): print(i,item)"
   ]
  },
  {
   "cell_type": "code",
   "execution_count": 112,
   "id": "87e59509-78d4-4884-82fc-07346f75e1f4",
   "metadata": {},
   "outputs": [
    {
     "name": "stdout",
     "output_type": "stream",
     "text": [
      "[1.0, 0.5, 0.5, 0.5, 0.5, 0.5]\n",
      "[2.0, 0.5, 0.5, 0.5, 0.5, 0.5]\n",
      "[4.0, 0.5, 0.5, 0.5, 0.5, 0.5]\n",
      "[8.0, 0.5, 0.5, 0.5, 0.5, 0.5]\n",
      "[8.0, 1.0, 0.5, 0.5, 0.5, 0.5]\n",
      "[8.0, 2.0, 0.5, 0.5, 0.5, 0.5]\n",
      "[8.0, 2.0, 1.0, 0.5, 0.5, 0.5]\n",
      "[8.0, 2.0, 2.0, 0.5, 0.5, 0.5]\n",
      "[8.0, 2.0, 2.0, 1.0, 0.5, 0.5]\n",
      "13\n",
      "30\n"
     ]
    }
   ],
   "source": [
    "data = list(open('day4-part1-example.txt'))\n",
    "p1 = [0.5]*len(data)\n",
    "p2 = [1.0]*len(data)\n",
    "\n",
    "for i, line in enumerate(data):\n",
    "    w, h = map(str.split, line.split('|'))\n",
    "\n",
    "    for j in range(len(set(w) & set(h))):\n",
    "        p1[i] *= 2\n",
    "        print(p1)\n",
    "        p2[i+j+1] += p2[i]\n",
    "\n",
    "for p in p1, p2: print(sum(map(int, p)))"
   ]
  },
  {
   "cell_type": "code",
   "execution_count": 107,
   "id": "7c3dbb56-5175-4ef0-9801-7a69ab5dade0",
   "metadata": {},
   "outputs": [
    {
     "name": "stdout",
     "output_type": "stream",
     "text": [
      "0.5\n",
      "1.0\n",
      "1.5\n",
      "2.0\n",
      "2.5\n"
     ]
    }
   ],
   "source": [
    "p = [1,2,3,4,5]\n",
    "p1 = [0.5]*10\n",
    "\n",
    "for i in p:\n",
    "    p1[i] *= i\n",
    "    print(p1[i])"
   ]
  }
 ],
 "metadata": {
  "kernelspec": {
   "display_name": "Python 3 (ipykernel)",
   "language": "python",
   "name": "python3"
  },
  "language_info": {
   "codemirror_mode": {
    "name": "ipython",
    "version": 3
   },
   "file_extension": ".py",
   "mimetype": "text/x-python",
   "name": "python",
   "nbconvert_exporter": "python",
   "pygments_lexer": "ipython3",
   "version": "3.11.4"
  }
 },
 "nbformat": 4,
 "nbformat_minor": 5
}
