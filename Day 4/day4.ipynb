{
 "cells": [
  {
   "cell_type": "code",
   "execution_count": 1,
   "id": "96d1e38a-1e6b-4d67-875e-dcfaf782cf03",
   "metadata": {},
   "outputs": [
    {
     "name": "stdout",
     "output_type": "stream",
     "text": [
      "18619\n"
     ]
    }
   ],
   "source": [
    "import re, math\n",
    "\n",
    "rows = list(open('day4-part1.txt'))\n",
    "cards = {(card): [] for card in range(len(rows))}\n",
    "\n",
    "def score_card(count):\n",
    "    i = 1\n",
    "    score = 1\n",
    "    if count == 0: return 0\n",
    "    while i < count:\n",
    "        i += 1\n",
    "        score = score * 2\n",
    "    return score\n",
    "\n",
    "# for each card, remove name, create two lists, have, and winning\n",
    "for r, row in enumerate(rows):\n",
    " \n",
    "    row = row.split(': ')[1].split('|')\n",
    "    have = [number for i,number in enumerate(row[0].split())]\n",
    "    winning = [number for i,number in enumerate(row[1].split())]\n",
    "\n",
    "    score = score_card(len(set(have) & set(winning)))\n",
    "    cards[r] = score\n",
    "\n",
    "print(sum(cards.values()))"
   ]
  }
 ],
 "metadata": {
  "kernelspec": {
   "display_name": "Python 3 (ipykernel)",
   "language": "python",
   "name": "python3"
  },
  "language_info": {
   "codemirror_mode": {
    "name": "ipython",
    "version": 3
   },
   "file_extension": ".py",
   "mimetype": "text/x-python",
   "name": "python",
   "nbconvert_exporter": "python",
   "pygments_lexer": "ipython3",
   "version": "3.11.4"
  }
 },
 "nbformat": 4,
 "nbformat_minor": 5
}
