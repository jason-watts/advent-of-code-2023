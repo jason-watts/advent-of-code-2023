{
 "cells": [
  {
   "cell_type": "code",
   "execution_count": 60,
   "id": "64dec145-d700-4c18-9251-cc95d0c05784",
   "metadata": {},
   "outputs": [
    {
     "name": "stdout",
     "output_type": "stream",
     "text": [
      "Total:  55108\n"
     ]
    }
   ],
   "source": [
    "# AOC Part 1\n",
    "import re\n",
    "totals = 0\n",
    "f = open('input.txt','r')\n",
    "lines = f.readlines()\n",
    "\n",
    "for line in lines:\n",
    "  last = 0\n",
    "    \n",
    "  digits = re.findall(r'\\d',line)\n",
    "  \n",
    "  first = digits[0]\n",
    "  if(len(digits)) == 1:\n",
    "     last = first\n",
    "  else:\n",
    "     last = digits[len(digits)-1]\n",
    "      \n",
    "  value = str(first) + str(last)\n",
    "\n",
    "  #Check logic\n",
    "  # print(digits)\n",
    "  # print(\"% s % s\" % (value,line))\n",
    "\n",
    "  # add values to total\n",
    "  totals += int(value)\n",
    "\n",
    "print(\"Total: % i\" % totals)\n"
   ]
  },
  {
   "cell_type": "code",
   "execution_count": 156,
   "id": "d093d744-1a64-42f2-83b6-ff9efa0c9286",
   "metadata": {},
   "outputs": [
    {
     "name": "stdout",
     "output_type": "stream",
     "text": [
      "Total:  56324\n"
     ]
    }
   ],
   "source": [
    "# AOC Part 2\n",
    "import re\n",
    "\n",
    "def find_digits_in_words(line):\n",
    "    #even though zero is not a valid value, it lines up the array position\n",
    "    digits = [0,1,2,3,4,5,6,7,8,9]\n",
    "    numbers = [\"zero\",\"one\",\"two\",\"three\",\"four\",\"five\",\"six\",\"seven\",\"eight\",\"nine\"]\n",
    "\n",
    "    if debug:\n",
    "        print(line)\n",
    "    \n",
    "    calibration_values = []\n",
    "    \n",
    "    for digit in digits:\n",
    "        found_digits = re.finditer(str(digit),line)\n",
    "        \n",
    "        if found_digits:\n",
    "            for found_digit in found_digits:\n",
    "                calibration_values.append((found_digit.span()[0],digit))\n",
    "\n",
    "    for number in numbers:\n",
    "       \n",
    "        found_words = re.finditer(number,line)\n",
    "\n",
    "        if found_words:\n",
    "            for found_word in found_words:\n",
    "                position = numbers.index(number)\n",
    "                calibration_values.append((found_word.span()[0],position))\n",
    "\n",
    "    calibration_values.sort()\n",
    "\n",
    "    if debug:\n",
    "        print(calibration_values)\n",
    "    \n",
    "    first = int(calibration_values[0][1])\n",
    "    last = 0\n",
    "    \n",
    "    if(len(calibration_values)) == 1:\n",
    "        last = first;\n",
    "    else:\n",
    "        last = int(calibration_values[len(calibration_values)-1][1])\n",
    "        \n",
    "    value = str(first) + str(last)\n",
    "\n",
    "    if debug:\n",
    "        print(\"%s %s\" % (value,line))\n",
    "        \n",
    "    return int(value)\n",
    "        \n",
    "\n",
    "def main():\n",
    "    \n",
    "    totals = 0\n",
    "    # f = open('AOC2Input.txt','r')\n",
    "    f = open('input.txt','r')\n",
    "    lines = f.readlines()\n",
    "    \n",
    "    for line in lines:\n",
    "        totals += find_digits_in_words(line)\n",
    "    \n",
    "    print(\"Total: % i\" % totals)\n",
    "\n",
    "# Main Program\n",
    "\n",
    "debug = False\n",
    "main()\n"
   ]
  },
  {
   "cell_type": "code",
   "execution_count": null,
   "id": "1bfb20e0-8650-4a85-b29c-8baa6b31c59c",
   "metadata": {},
   "outputs": [],
   "source": []
  },
  {
   "cell_type": "code",
   "execution_count": null,
   "id": "acc460cd-d20b-43a7-84d6-7deb4b59346e",
   "metadata": {},
   "outputs": [],
   "source": []
  }
 ],
 "metadata": {
  "kernelspec": {
   "display_name": "Python 3 (ipykernel)",
   "language": "python",
   "name": "python3"
  },
  "language_info": {
   "codemirror_mode": {
    "name": "ipython",
    "version": 3
   },
   "file_extension": ".py",
   "mimetype": "text/x-python",
   "name": "python",
   "nbconvert_exporter": "python",
   "pygments_lexer": "ipython3",
   "version": "3.11.4"
  }
 },
 "nbformat": 4,
 "nbformat_minor": 5
}
